{
 "cells": [
  {
   "cell_type": "code",
   "execution_count": 11,
   "id": "cec29fc7-baec-4d60-a66a-ead6a7bdba8a",
   "metadata": {},
   "outputs": [],
   "source": [
    "import numpy as np"
   ]
  },
  {
   "cell_type": "code",
   "execution_count": 12,
   "id": "05af730d-d2a4-4eeb-83e0-daa57b0ef3dd",
   "metadata": {},
   "outputs": [],
   "source": [
    "arr = np.array([10,20,30])"
   ]
  },
  {
   "cell_type": "code",
   "execution_count": 13,
   "id": "4f7a9e84-3965-4bfa-bd1b-a885ca92debb",
   "metadata": {},
   "outputs": [
    {
     "data": {
      "text/plain": [
       "array([10, 20, 30])"
      ]
     },
     "execution_count": 13,
     "metadata": {},
     "output_type": "execute_result"
    }
   ],
   "source": [
    "arr"
   ]
  },
  {
   "cell_type": "code",
   "execution_count": 14,
   "id": "31e76282-44a5-4970-bee9-f253de1959c0",
   "metadata": {},
   "outputs": [],
   "source": [
    "arr1 = np.array([[10,20,30],[30,85,56],[98,56,78]])"
   ]
  },
  {
   "cell_type": "code",
   "execution_count": 15,
   "id": "278f6a20-6ce3-4572-8cd2-63c30e633ab5",
   "metadata": {},
   "outputs": [
    {
     "data": {
      "text/plain": [
       "array([[10, 20, 30],\n",
       "       [30, 85, 56],\n",
       "       [98, 56, 78]])"
      ]
     },
     "execution_count": 15,
     "metadata": {},
     "output_type": "execute_result"
    }
   ],
   "source": [
    "arr1"
   ]
  },
  {
   "cell_type": "code",
   "execution_count": 20,
   "id": "f748e2d7-6fc1-48ec-89d1-d04237084733",
   "metadata": {},
   "outputs": [],
   "source": [
    "arr2 = np.zeros((5,5))"
   ]
  },
  {
   "cell_type": "code",
   "execution_count": 23,
   "id": "0f2d58d5-046b-4a8a-bf3e-a6ecc2762972",
   "metadata": {},
   "outputs": [
    {
     "data": {
      "text/plain": [
       "array([[0., 0., 0., 0., 0.],\n",
       "       [0., 0., 0., 0., 0.],\n",
       "       [0., 0., 0., 0., 0.],\n",
       "       [0., 0., 0., 0., 0.],\n",
       "       [0., 0., 0., 0., 0.]])"
      ]
     },
     "execution_count": 23,
     "metadata": {},
     "output_type": "execute_result"
    }
   ],
   "source": [
    "arr2"
   ]
  },
  {
   "cell_type": "code",
   "execution_count": 24,
   "id": "5431db58-75ab-4360-8bee-e13a37a5feaf",
   "metadata": {},
   "outputs": [
    {
     "data": {
      "text/plain": [
       "numpy.ndarray"
      ]
     },
     "execution_count": 24,
     "metadata": {},
     "output_type": "execute_result"
    }
   ],
   "source": [
    "type(arr2)"
   ]
  },
  {
   "cell_type": "code",
   "execution_count": 25,
   "id": "f1896c46-4cbb-4039-8d37-26c17341cee0",
   "metadata": {},
   "outputs": [],
   "source": [
    "arr2 = np.zeros((10,10))"
   ]
  },
  {
   "cell_type": "code",
   "execution_count": 26,
   "id": "aa1fab3e-587d-474d-a56d-6a98b3fafeb9",
   "metadata": {},
   "outputs": [
    {
     "data": {
      "text/plain": [
       "array([[0., 0., 0., 0., 0., 0., 0., 0., 0., 0.],\n",
       "       [0., 0., 0., 0., 0., 0., 0., 0., 0., 0.],\n",
       "       [0., 0., 0., 0., 0., 0., 0., 0., 0., 0.],\n",
       "       [0., 0., 0., 0., 0., 0., 0., 0., 0., 0.],\n",
       "       [0., 0., 0., 0., 0., 0., 0., 0., 0., 0.],\n",
       "       [0., 0., 0., 0., 0., 0., 0., 0., 0., 0.],\n",
       "       [0., 0., 0., 0., 0., 0., 0., 0., 0., 0.],\n",
       "       [0., 0., 0., 0., 0., 0., 0., 0., 0., 0.],\n",
       "       [0., 0., 0., 0., 0., 0., 0., 0., 0., 0.],\n",
       "       [0., 0., 0., 0., 0., 0., 0., 0., 0., 0.]])"
      ]
     },
     "execution_count": 26,
     "metadata": {},
     "output_type": "execute_result"
    }
   ],
   "source": [
    "arr2"
   ]
  },
  {
   "cell_type": "code",
   "execution_count": 28,
   "id": "9bed0f1c-f6a6-4e67-87b3-8f474a3e0245",
   "metadata": {},
   "outputs": [],
   "source": [
    "arr2 = np.full((5,5),7)"
   ]
  },
  {
   "cell_type": "code",
   "execution_count": 29,
   "id": "10d0ed59-8411-4cda-9b7c-26060904905f",
   "metadata": {},
   "outputs": [
    {
     "data": {
      "text/plain": [
       "array([[7, 7, 7, 7, 7],\n",
       "       [7, 7, 7, 7, 7],\n",
       "       [7, 7, 7, 7, 7],\n",
       "       [7, 7, 7, 7, 7],\n",
       "       [7, 7, 7, 7, 7]])"
      ]
     },
     "execution_count": 29,
     "metadata": {},
     "output_type": "execute_result"
    }
   ],
   "source": [
    "arr2"
   ]
  },
  {
   "cell_type": "code",
   "execution_count": 31,
   "id": "1413a446-4603-4d71-827a-c8430a7bf85c",
   "metadata": {},
   "outputs": [],
   "source": [
    "arr3 = np.arange(5,20)"
   ]
  },
  {
   "cell_type": "code",
   "execution_count": 32,
   "id": "0a3fd0dd-04ee-4eee-8554-a009ef6500f0",
   "metadata": {},
   "outputs": [
    {
     "data": {
      "text/plain": [
       "array([ 5,  6,  7,  8,  9, 10, 11, 12, 13, 14, 15, 16, 17, 18, 19])"
      ]
     },
     "execution_count": 32,
     "metadata": {},
     "output_type": "execute_result"
    }
   ],
   "source": [
    "arr3"
   ]
  },
  {
   "cell_type": "code",
   "execution_count": 33,
   "id": "9f03ae40-d787-4ab1-930b-4692f092099b",
   "metadata": {},
   "outputs": [],
   "source": [
    "arr3 = np.arange(10,50,5)"
   ]
  },
  {
   "cell_type": "code",
   "execution_count": 34,
   "id": "66460c72-8610-4624-afb3-bd296f32ef96",
   "metadata": {},
   "outputs": [
    {
     "data": {
      "text/plain": [
       "array([10, 15, 20, 25, 30, 35, 40, 45])"
      ]
     },
     "execution_count": 34,
     "metadata": {},
     "output_type": "execute_result"
    }
   ],
   "source": [
    "arr3"
   ]
  },
  {
   "cell_type": "code",
   "execution_count": 35,
   "id": "21ae780e-87ef-4e9d-9b6a-de1618bf60c6",
   "metadata": {},
   "outputs": [],
   "source": [
    "arr3 = np.random.randint(1,100,9)"
   ]
  },
  {
   "cell_type": "code",
   "execution_count": 36,
   "id": "972ce3f2-70dd-425a-9e64-fec0064d5b8b",
   "metadata": {},
   "outputs": [
    {
     "data": {
      "text/plain": [
       "array([20, 95, 12,  2, 42, 85, 93, 64, 63])"
      ]
     },
     "execution_count": 36,
     "metadata": {},
     "output_type": "execute_result"
    }
   ],
   "source": [
    "arr3"
   ]
  },
  {
   "cell_type": "code",
   "execution_count": 37,
   "id": "680421eb-6194-48af-902b-a3e29b05649b",
   "metadata": {},
   "outputs": [],
   "source": [
    "arr3 = np.array([[1,2,3],[4,5,6]])"
   ]
  },
  {
   "cell_type": "code",
   "execution_count": 38,
   "id": "8f647ad2-6a63-4e4a-bf48-bd34619e3706",
   "metadata": {},
   "outputs": [
    {
     "data": {
      "text/plain": [
       "(2, 3)"
      ]
     },
     "execution_count": 38,
     "metadata": {},
     "output_type": "execute_result"
    }
   ],
   "source": [
    "arr3.shape"
   ]
  },
  {
   "cell_type": "code",
   "execution_count": 39,
   "id": "5a5ffe3b-a7a3-4259-94b6-887f609a04ef",
   "metadata": {},
   "outputs": [
    {
     "data": {
      "text/plain": [
       "array([[1, 2, 3],\n",
       "       [4, 5, 6]])"
      ]
     },
     "execution_count": 39,
     "metadata": {},
     "output_type": "execute_result"
    }
   ],
   "source": [
    "arr3"
   ]
  },
  {
   "cell_type": "code",
   "execution_count": 40,
   "id": "f835da2c-ba2d-46a2-b806-a3138e111be8",
   "metadata": {},
   "outputs": [],
   "source": [
    "arr3.shape= (3,2)"
   ]
  },
  {
   "cell_type": "code",
   "execution_count": 41,
   "id": "cbd5fc1b-f845-4170-a437-de13a8851e7a",
   "metadata": {},
   "outputs": [
    {
     "data": {
      "text/plain": [
       "array([[1, 2],\n",
       "       [3, 4],\n",
       "       [5, 6]])"
      ]
     },
     "execution_count": 41,
     "metadata": {},
     "output_type": "execute_result"
    }
   ],
   "source": [
    "arr3"
   ]
  },
  {
   "cell_type": "code",
   "execution_count": 42,
   "id": "5122637e-3764-4249-b630-f5cc9c4da194",
   "metadata": {},
   "outputs": [],
   "source": [
    "arr1 = np.array([10,20,30])"
   ]
  },
  {
   "cell_type": "code",
   "execution_count": 43,
   "id": "62b119c0-cab7-4d85-a872-1fcc6ded198e",
   "metadata": {},
   "outputs": [],
   "source": [
    "arr2 = np.array([40,50,60])"
   ]
  },
  {
   "cell_type": "code",
   "execution_count": 44,
   "id": "2569a903-64f4-4f15-95e8-635550d30b9a",
   "metadata": {},
   "outputs": [
    {
     "data": {
      "text/plain": [
       "array([[10, 20, 30],\n",
       "       [40, 50, 60]])"
      ]
     },
     "execution_count": 44,
     "metadata": {},
     "output_type": "execute_result"
    }
   ],
   "source": [
    "np.vstack((arr1,arr2))"
   ]
  },
  {
   "cell_type": "code",
   "execution_count": 45,
   "id": "e38dd596-f33a-4871-934e-b99a425578be",
   "metadata": {},
   "outputs": [],
   "source": [
    "n1 = np.array([15,20,98])"
   ]
  },
  {
   "cell_type": "code",
   "execution_count": 46,
   "id": "b0ce0a79-0a9c-430d-ac8a-105894ce0500",
   "metadata": {},
   "outputs": [],
   "source": [
    "n2 = np.array([23,5,78])"
   ]
  },
  {
   "cell_type": "code",
   "execution_count": 47,
   "id": "7266bac9-91b2-457d-a9df-795dff381b6f",
   "metadata": {},
   "outputs": [
    {
     "data": {
      "text/plain": [
       "array([15, 20, 98, 23,  5, 78])"
      ]
     },
     "execution_count": 47,
     "metadata": {},
     "output_type": "execute_result"
    }
   ],
   "source": [
    "np.hstack((n1,n2))"
   ]
  },
  {
   "cell_type": "code",
   "execution_count": 48,
   "id": "05107a00-4602-46d8-93ce-78392dcc6cb2",
   "metadata": {},
   "outputs": [],
   "source": [
    "n3 = np.array([15,56,75])"
   ]
  },
  {
   "cell_type": "code",
   "execution_count": 49,
   "id": "aa891e03-4c9d-4272-a8e9-9913197bee95",
   "metadata": {},
   "outputs": [],
   "source": [
    "n4 = np.array([17,19,65])"
   ]
  },
  {
   "cell_type": "code",
   "execution_count": 50,
   "id": "c4c4a329-6919-4be7-b6ed-1ec00a6c3310",
   "metadata": {},
   "outputs": [
    {
     "data": {
      "text/plain": [
       "array([[15, 17],\n",
       "       [56, 19],\n",
       "       [75, 65]])"
      ]
     },
     "execution_count": 50,
     "metadata": {},
     "output_type": "execute_result"
    }
   ],
   "source": [
    "np.column_stack((n3,n4))"
   ]
  },
  {
   "cell_type": "code",
   "execution_count": 51,
   "id": "ef8904f3-c85f-4ca2-b84b-e3acc74d0c59",
   "metadata": {},
   "outputs": [],
   "source": [
    "arr6 = ([10,20,30,40,50,60])"
   ]
  },
  {
   "cell_type": "code",
   "execution_count": 52,
   "id": "d0453025-fc5d-46ef-9db7-e2cc7c2b4cc5",
   "metadata": {},
   "outputs": [],
   "source": [
    "arr7 = ([50,60,70,80,90])"
   ]
  },
  {
   "cell_type": "code",
   "execution_count": 53,
   "id": "7cff00cc-2edd-45fd-8afc-7f01f08febe3",
   "metadata": {},
   "outputs": [
    {
     "data": {
      "text/plain": [
       "array([50, 60])"
      ]
     },
     "execution_count": 53,
     "metadata": {},
     "output_type": "execute_result"
    }
   ],
   "source": [
    "np.intersect1d(arr6,arr7)"
   ]
  },
  {
   "cell_type": "code",
   "execution_count": 54,
   "id": "cfab81cf-a093-4790-90a0-1d34c785a6b0",
   "metadata": {},
   "outputs": [
    {
     "data": {
      "text/plain": [
       "array([10, 20, 30, 40])"
      ]
     },
     "execution_count": 54,
     "metadata": {},
     "output_type": "execute_result"
    }
   ],
   "source": [
    "np.setdiff1d(arr6,arr7)"
   ]
  },
  {
   "cell_type": "code",
   "execution_count": 55,
   "id": "b0500659-6ca1-4235-8cc8-e30574882720",
   "metadata": {},
   "outputs": [
    {
     "data": {
      "text/plain": [
       "array([70, 80, 90])"
      ]
     },
     "execution_count": 55,
     "metadata": {},
     "output_type": "execute_result"
    }
   ],
   "source": [
    "np.setdiff1d(arr7,arr6)"
   ]
  },
  {
   "cell_type": "code",
   "execution_count": 56,
   "id": "446a73f5-8e01-462c-83f3-649333e8d771",
   "metadata": {},
   "outputs": [],
   "source": [
    "n1 = np.array([10,20])"
   ]
  },
  {
   "cell_type": "code",
   "execution_count": 57,
   "id": "f0f7e844-2fc2-457b-9562-162afe53ca2e",
   "metadata": {},
   "outputs": [],
   "source": [
    "n2 = np.array([30,40])"
   ]
  },
  {
   "cell_type": "code",
   "execution_count": 58,
   "id": "47f53465-a394-452f-bd4a-64dfa685387f",
   "metadata": {},
   "outputs": [
    {
     "data": {
      "text/plain": [
       "100"
      ]
     },
     "execution_count": 58,
     "metadata": {},
     "output_type": "execute_result"
    }
   ],
   "source": [
    "np.sum([n1,n2])"
   ]
  },
  {
   "cell_type": "code",
   "execution_count": 59,
   "id": "448768db-c704-41b2-8857-29b5ddf76d45",
   "metadata": {},
   "outputs": [
    {
     "data": {
      "text/plain": [
       "array([40, 60])"
      ]
     },
     "execution_count": 59,
     "metadata": {},
     "output_type": "execute_result"
    }
   ],
   "source": [
    "np.sum([n1,n2], axis = 0)"
   ]
  },
  {
   "cell_type": "code",
   "execution_count": 60,
   "id": "1dc18e7f-d257-49e6-9ca8-0a26640698ed",
   "metadata": {},
   "outputs": [
    {
     "data": {
      "text/plain": [
       "array([30, 70])"
      ]
     },
     "execution_count": 60,
     "metadata": {},
     "output_type": "execute_result"
    }
   ],
   "source": [
    "np.sum([n1,n2], axis = 1)"
   ]
  },
  {
   "cell_type": "code",
   "execution_count": 62,
   "id": "d93e130a-2853-4294-ba6e-20ba675c7661",
   "metadata": {},
   "outputs": [],
   "source": [
    "n1 = np.array([10,20,30])\n",
    "n1 = n1+1"
   ]
  },
  {
   "cell_type": "code",
   "execution_count": 63,
   "id": "827f2e68-c600-49b2-ac84-86decbde1ec6",
   "metadata": {},
   "outputs": [
    {
     "data": {
      "text/plain": [
       "array([11, 21, 31])"
      ]
     },
     "execution_count": 63,
     "metadata": {},
     "output_type": "execute_result"
    }
   ],
   "source": [
    "n1"
   ]
  },
  {
   "cell_type": "code",
   "execution_count": 64,
   "id": "84664dd8-9920-402f-9342-f2047c94da46",
   "metadata": {},
   "outputs": [
    {
     "data": {
      "text/plain": [
       "array([10, 20, 30])"
      ]
     },
     "execution_count": 64,
     "metadata": {},
     "output_type": "execute_result"
    }
   ],
   "source": [
    "n1 = n1-1\n",
    "n1"
   ]
  },
  {
   "cell_type": "code",
   "execution_count": 65,
   "id": "932218a5-434a-4e76-ba46-7790d2060fc2",
   "metadata": {},
   "outputs": [
    {
     "data": {
      "text/plain": [
       "array([20, 40, 60])"
      ]
     },
     "execution_count": 65,
     "metadata": {},
     "output_type": "execute_result"
    }
   ],
   "source": [
    "n1 = n1*2\n",
    "n1"
   ]
  },
  {
   "cell_type": "code",
   "execution_count": 66,
   "id": "f67d34e9-ab21-4ae1-b7b7-cf08f37ffdff",
   "metadata": {},
   "outputs": [
    {
     "data": {
      "text/plain": [
       "array([10., 20., 30.])"
      ]
     },
     "execution_count": 66,
     "metadata": {},
     "output_type": "execute_result"
    }
   ],
   "source": [
    "n1 = n1/2\n",
    "n1"
   ]
  },
  {
   "cell_type": "code",
   "execution_count": 67,
   "id": "f93db642-e3ff-4110-a22e-367136434d71",
   "metadata": {},
   "outputs": [],
   "source": [
    "n6 = np.array([10,20,30,40,50,60,70])"
   ]
  },
  {
   "cell_type": "code",
   "execution_count": 68,
   "id": "109cbce4-8ea0-41a7-bc2c-d9ca9eff2bd2",
   "metadata": {},
   "outputs": [
    {
     "data": {
      "text/plain": [
       "40.0"
      ]
     },
     "execution_count": 68,
     "metadata": {},
     "output_type": "execute_result"
    }
   ],
   "source": [
    "np.mean(n6)"
   ]
  },
  {
   "cell_type": "code",
   "execution_count": 79,
   "id": "25284432-2ff9-44ea-8edc-f98b32d20d8f",
   "metadata": {},
   "outputs": [],
   "source": [
    "n7 = np.array([10,20,30,40,50,60,70])"
   ]
  },
  {
   "cell_type": "code",
   "execution_count": 80,
   "id": "6ef0117e-86af-4546-a6e3-1d9834837714",
   "metadata": {},
   "outputs": [
    {
     "data": {
      "text/plain": [
       "40.0"
      ]
     },
     "execution_count": 80,
     "metadata": {},
     "output_type": "execute_result"
    }
   ],
   "source": [
    "np.median(n7)"
   ]
  },
  {
   "cell_type": "code",
   "execution_count": 81,
   "id": "6f94d7b6-6f83-40e3-9a86-f2629b4d4eed",
   "metadata": {},
   "outputs": [],
   "source": [
    "n8 = np.array([1,5,3,100,4,48])"
   ]
  },
  {
   "cell_type": "code",
   "execution_count": 82,
   "id": "32f85e47-b39b-4828-af83-7acd6935b9c1",
   "metadata": {},
   "outputs": [
    {
     "data": {
      "text/plain": [
       "36.59424666377065"
      ]
     },
     "execution_count": 82,
     "metadata": {},
     "output_type": "execute_result"
    }
   ],
   "source": [
    "np.std(n8)"
   ]
  },
  {
   "cell_type": "code",
   "execution_count": 86,
   "id": "24db4b0d-5eb7-43d3-8797-33f7c406ab1f",
   "metadata": {},
   "outputs": [],
   "source": [
    "n9 = np.array([10,22,30,40,50])\n",
    "np.save('my_numpy', n9)"
   ]
  },
  {
   "cell_type": "code",
   "execution_count": 87,
   "id": "441b9c47-9e4f-4347-be5a-0fc9da678438",
   "metadata": {},
   "outputs": [],
   "source": [
    "n10 = np.load('my_numpy.npy')"
   ]
  },
  {
   "cell_type": "code",
   "execution_count": 88,
   "id": "68b9a8b6-ad8b-4376-9d8d-81f30d253c32",
   "metadata": {},
   "outputs": [
    {
     "data": {
      "text/plain": [
       "array([10, 22, 30, 40, 50])"
      ]
     },
     "execution_count": 88,
     "metadata": {},
     "output_type": "execute_result"
    }
   ],
   "source": [
    "n10"
   ]
  },
  {
   "cell_type": "code",
   "execution_count": null,
   "id": "8f25133c-78b0-4163-8730-3f4f86256823",
   "metadata": {},
   "outputs": [],
   "source": []
  }
 ],
 "metadata": {
  "kernelspec": {
   "display_name": "Python 3 (ipykernel)",
   "language": "python",
   "name": "python3"
  },
  "language_info": {
   "codemirror_mode": {
    "name": "ipython",
    "version": 3
   },
   "file_extension": ".py",
   "mimetype": "text/x-python",
   "name": "python",
   "nbconvert_exporter": "python",
   "pygments_lexer": "ipython3",
   "version": "3.11.3"
  }
 },
 "nbformat": 4,
 "nbformat_minor": 5
}
